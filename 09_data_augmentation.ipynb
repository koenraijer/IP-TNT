{
 "cells": [
  {
   "cell_type": "code",
   "execution_count": 1,
   "metadata": {},
   "outputs": [],
   "source": [
    "from sklearn.model_selection import GroupShuffleSplit\n",
    "import numpy as np\n",
    "import pandas as pd\n",
    "import seaborn as sns\n",
    "import plotly.express as px\n",
    "import neurokit2 as nk\n",
    "import matplotlib.pyplot as plt\n",
    "\n",
    "# Global settings\n",
    "pd.set_option('display.max_rows', 200)\n",
    "pd.options.display.float_format = '{:.2f}'.format\n",
    "plt.rcParams[\"figure.figsize\"] = (20, 6)\n",
    "plt.style.use('ggplot') # nicer plots\n",
    "pd.set_option('display.max_columns', None)\n",
    "\n",
    "# Data loading\n",
    "df = pd.read_csv('output/combined_feature_engineered_tnt_only.csv')\n",
    "\n",
    "df['datetime'] = pd.to_datetime(df['datetime'])\n",
    "df.drop(['datetime', 'unix_time', 'source', 'response', 'intrusion', 'intrusion_nothink', 'trialcode', 'session_id'], axis=1, inplace=True)\n",
    "\n",
    "X = df.drop('intrusion_tnt', axis=1)  # Features: All columns except 'intrusion_tnt'\n",
    "y = df['intrusion_tnt']  # Labels: 'intrusion_tnt' column\n",
    "\n",
    "# Assuming 'participant' is the column with participant IDs\n",
    "gss = GroupShuffleSplit(n_splits=1, test_size=0.2, random_state=42)\n",
    "\n",
    "train_idx, test_idx = next(gss.split(X, y, groups=df['participant']))\n",
    "\n",
    "# Create the training and test sets\n",
    "X_train, X_test = X.iloc[train_idx], X.iloc[test_idx]\n",
    "y_train, y_test = y.iloc[train_idx], y.iloc[test_idx]\n",
    "\n",
    "from sklearn.impute import KNNImputer\n",
    "\n",
    "# Initialize a new KNNImputer instance\n",
    "knn_imputer = KNNImputer(n_neighbors=5)\n",
    "\n",
    "# Fit the imputer on the training data\n",
    "knn_imputer.fit(X_train)\n",
    "\n",
    "# Transform the training and test data\n",
    "X_train = knn_imputer.transform(X_train)\n",
    "X_test = knn_imputer.transform(X_test)"
   ]
  }
 ],
 "metadata": {
  "kernelspec": {
   "display_name": "Python 3",
   "language": "python",
   "name": "python3"
  },
  "language_info": {
   "codemirror_mode": {
    "name": "ipython",
    "version": 3
   },
   "file_extension": ".py",
   "mimetype": "text/x-python",
   "name": "python",
   "nbconvert_exporter": "python",
   "pygments_lexer": "ipython3",
   "version": "3.11.7"
  }
 },
 "nbformat": 4,
 "nbformat_minor": 2
}
