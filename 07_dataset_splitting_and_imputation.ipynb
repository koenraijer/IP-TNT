{
 "cells": [
  {
   "cell_type": "code",
   "execution_count": 2,
   "metadata": {},
   "outputs": [],
   "source": [
    "import numpy as np\n",
    "import pandas as pd\n",
    "import seaborn as sns\n",
    "import plotly.express as px\n",
    "import neurokit2 as nk\n",
    "import matplotlib.pyplot as plt\n",
    "\n",
    "# Global settings\n",
    "pd.set_option('display.max_rows', 200)\n",
    "pd.options.display.float_format = '{:.2f}'.format\n",
    "plt.rcParams[\"figure.figsize\"] = (20, 6)\n",
    "plt.style.use('ggplot') # nicer plots\n",
    "pd.set_option('display.max_columns', None)\n",
    "\n",
    "# Data loading\n",
    "df = pd.read_csv('output/combined_feature_engineered_tnt_only.csv')\n",
    "\n",
    "df['datetime'] = pd.to_datetime(df['datetime'])"
   ]
  },
  {
   "cell_type": "code",
   "execution_count": 25,
   "metadata": {},
   "outputs": [
    {
     "data": {
      "text/plain": [
       "14"
      ]
     },
     "execution_count": 25,
     "metadata": {},
     "output_type": "execute_result"
    }
   ],
   "source": [
    "df.head()\n",
    "len(df['participant'].unique())"
   ]
  },
  {
   "cell_type": "code",
   "execution_count": 3,
   "metadata": {},
   "outputs": [
    {
     "data": {
      "text/plain": [
       "Index(['acc_x', 'acc_y', 'acc_z', 'temp', 'eda', 'bvp', 'hr', 'intrusion_tnt',\n",
       "       'participant', 'eda_tonic', 'eda_phasic', 'eda_scr_onsets',\n",
       "       'eda_scr_peaks', 'eda_scr_height', 'eda_scr_amplitude',\n",
       "       'eda_scr_risetime', 'eda_scr_recovery', 'eda_mean', 'eda_std',\n",
       "       'eda_min', 'eda_max', 'eda_skew', 'eda_kurt', 'eda_tonic_mean',\n",
       "       'eda_phasic_mean', 'eda_scr_onsets_mean', 'eda_scr_peaks_mean',\n",
       "       'eda_scr_height_mean', 'eda_scr_amplitude_mean',\n",
       "       'eda_scr_risetime_mean', 'eda_scr_recovery_mean', 'acc_x_mean',\n",
       "       'acc_y_mean', 'acc_z_mean', 'acc_x_std', 'acc_y_std', 'acc_z_std',\n",
       "       'acc_x_min', 'acc_y_min', 'acc_z_min', 'acc_x_max', 'acc_y_max',\n",
       "       'acc_z_max', 'acc_x_skew', 'acc_y_skew', 'acc_z_skew', 'acc_x_kurt',\n",
       "       'acc_y_kurt', 'acc_z_kurt', 'temp_mean', 'temp_std', 'temp_min',\n",
       "       'temp_max', 'temp_skew', 'temp_kurt', 'hr_mean', 'hr_std', 'hr_min',\n",
       "       'hr_max', 'hr_skew', 'hr_kurt'],\n",
       "      dtype='object')"
      ]
     },
     "execution_count": 3,
     "metadata": {},
     "output_type": "execute_result"
    }
   ],
   "source": [
    "df.drop(['datetime', 'unix_time', 'source', 'response', 'intrusion', 'intrusion_nothink', 'trialcode', 'session_id'], axis=1, inplace=True)\n",
    "df.columns"
   ]
  },
  {
   "cell_type": "code",
   "execution_count": null,
   "metadata": {},
   "outputs": [],
   "source": [
    "# import seaborn as sns\n",
    "# import matplotlib.pyplot as plt\n",
    "\n",
    "# # Assuming 'label' is the column with class values\n",
    "# for col in df.columns:\n",
    "#     if col != 'intrusion_tnt' and col != 'participant':\n",
    "#         plt.figure(figsize=(10, 4))\n",
    "#         sns.boxplot(x='intrusion_tnt', y=col, data=df)\n",
    "#         plt.title(f'Box plot of {col} by class')\n",
    "#         plt.show()"
   ]
  },
  {
   "cell_type": "code",
   "execution_count": 4,
   "metadata": {},
   "outputs": [],
   "source": [
    "from sklearn.model_selection import GroupShuffleSplit\n",
    "\n",
    "X = df.drop('intrusion_tnt', axis=1)  # Features: All columns except 'intrusion_tnt'\n",
    "y = df['intrusion_tnt']  # Labels: 'intrusion_tnt' column\n",
    "\n",
    "# Assuming 'participant' is the column with participant IDs\n",
    "gss = GroupShuffleSplit(n_splits=1, test_size=0.2, random_state=42)\n",
    "\n",
    "train_idx, test_idx = next(gss.split(X, y, groups=df['participant']))\n",
    "\n",
    "# Create the training and test sets\n",
    "X_train, X_test = X.iloc[train_idx], X.iloc[test_idx]\n",
    "y_train, y_test = y.iloc[train_idx], y.iloc[test_idx]"
   ]
  },
  {
   "cell_type": "code",
   "execution_count": 5,
   "metadata": {},
   "outputs": [
    {
     "name": "stdout",
     "output_type": "stream",
     "text": [
      "Length of training set: 1966 Length of test set: 602\n",
      "Length of training labels: 1966 Length of test labels: 602\n"
     ]
    }
   ],
   "source": [
    "print(\"Length of training set:\", len(X_train), \"Length of test set:\", len(X_test))\n",
    "print(\"Length of training labels:\", len(y_train), \"Length of test labels:\", len(y_test))"
   ]
  },
  {
   "cell_type": "code",
   "execution_count": 6,
   "metadata": {},
   "outputs": [
    {
     "name": "stdout",
     "output_type": "stream",
     "text": [
      "Number of unique participants in training set: 11\n",
      "Number of unique participants in test set: 3\n"
     ]
    }
   ],
   "source": [
    "print('Number of unique participants in training set:', df.iloc[X_train.index]['participant'].nunique())\n",
    "print('Number of unique participants in test set:', df.iloc[X_test.index]['participant'].nunique())"
   ]
  },
  {
   "cell_type": "markdown",
   "metadata": {},
   "source": [
    "### Imputation (KNN)"
   ]
  },
  {
   "cell_type": "code",
   "execution_count": 7,
   "metadata": {},
   "outputs": [],
   "source": [
    "from sklearn.impute import KNNImputer\n",
    "\n",
    "# Initialize a new KNNImputer instance\n",
    "knn_imputer = KNNImputer(n_neighbors=5)\n",
    "\n",
    "# Fit the imputer on the training data\n",
    "knn_imputer.fit(X_train)\n",
    "\n",
    "# Transform the training and test data\n",
    "X_train_imputed = knn_imputer.transform(X_train)\n",
    "X_test_imputed = knn_imputer.transform(X_test)"
   ]
  },
  {
   "cell_type": "code",
   "execution_count": 9,
   "metadata": {},
   "outputs": [
    {
     "data": {
      "text/plain": [
       "(0, 0)"
      ]
     },
     "execution_count": 9,
     "metadata": {},
     "output_type": "execute_result"
    }
   ],
   "source": [
    "np.isnan(X_train_imputed).sum(), np.isnan(X_test_imputed).sum()"
   ]
  },
  {
   "cell_type": "markdown",
   "metadata": {},
   "source": [
    "## To copy to next notebook"
   ]
  },
  {
   "cell_type": "code",
   "execution_count": null,
   "metadata": {},
   "outputs": [],
   "source": [
    "from sklearn.model_selection import GroupShuffleSplit\n",
    "import numpy as np\n",
    "import pandas as pd\n",
    "import seaborn as sns\n",
    "import plotly.express as px\n",
    "import neurokit2 as nk\n",
    "import matplotlib.pyplot as plt\n",
    "\n",
    "# Global settings\n",
    "pd.set_option('display.max_rows', 200)\n",
    "pd.options.display.float_format = '{:.2f}'.format\n",
    "plt.rcParams[\"figure.figsize\"] = (20, 6)\n",
    "plt.style.use('ggplot') # nicer plots\n",
    "pd.set_option('display.max_columns', None)\n",
    "\n",
    "# Data loading\n",
    "df = pd.read_csv('output/combined_feature_engineered_tnt_only.csv')\n",
    "\n",
    "df['datetime'] = pd.to_datetime(df['datetime'])\n",
    "df.drop(['datetime', 'unix_time', 'source', 'response', 'intrusion', 'intrusion_nothink', 'trialcode', 'session_id'], axis=1, inplace=True)\n",
    "\n",
    "X = df.drop('intrusion_tnt', axis=1)  # Features: All columns except 'intrusion_tnt'\n",
    "y = df['intrusion_tnt']  # Labels: 'intrusion_tnt' column\n",
    "\n",
    "# Assuming 'participant' is the column with participant IDs\n",
    "gss = GroupShuffleSplit(n_splits=1, test_size=0.2, random_state=42)\n",
    "\n",
    "train_idx, test_idx = next(gss.split(X, y, groups=df['participant']))\n",
    "\n",
    "# Create the training and test sets\n",
    "X_train, X_test = X.iloc[train_idx], X.iloc[test_idx]\n",
    "y_train, y_test = y.iloc[train_idx], y.iloc[test_idx]\n",
    "\n",
    "from sklearn.impute import KNNImputer\n",
    "\n",
    "# Initialize a new KNNImputer instance\n",
    "knn_imputer = KNNImputer(n_neighbors=5)\n",
    "\n",
    "# Fit the imputer on the training data\n",
    "knn_imputer.fit(X_train)\n",
    "\n",
    "# Transform the training and test data\n",
    "X_train = knn_imputer.transform(X_train)\n",
    "X_test = knn_imputer.transform(X_test)\n",
    "\n",
    "# Normalize the data\n",
    "from sklearn.preprocessing import StandardScaler\n",
    "\n",
    "scaler = StandardScaler()\n",
    "\n",
    "# Fit the scaler on the training data\n",
    "scaler.fit(X_train)\n",
    "\n",
    "# Transform the training and test data\n",
    "X_train = scaler.transform(X_train)\n",
    "X_test = scaler.transform(X_test)\n"
   ]
  }
 ],
 "metadata": {
  "kernelspec": {
   "display_name": "Python 3",
   "language": "python",
   "name": "python3"
  },
  "language_info": {
   "codemirror_mode": {
    "name": "ipython",
    "version": 3
   },
   "file_extension": ".py",
   "mimetype": "text/x-python",
   "name": "python",
   "nbconvert_exporter": "python",
   "pygments_lexer": "ipython3",
   "version": "3.11.7"
  }
 },
 "nbformat": 4,
 "nbformat_minor": 2
}
