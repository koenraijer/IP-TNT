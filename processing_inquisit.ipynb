{
 "cells": [
  {
   "cell_type": "code",
   "execution_count": 55,
   "metadata": {},
   "outputs": [
    {
     "data": {
      "text/plain": [
       "(<module 'helpers' from '/Users/koenraijer/Documents/Universiteit/Student-assistent/IP-TNT/Data/helpers.py'>,\n",
       " <module 'inquisit_helpers' from '/Users/koenraijer/Documents/Universiteit/Student-assistent/IP-TNT/Data/inquisit_helpers.py'>)"
      ]
     },
     "execution_count": 55,
     "metadata": {},
     "output_type": "execute_result"
    }
   ],
   "source": [
    "# CONDA: tnt\n",
    "import pandas as pd\n",
    "pd.set_option('display.max_rows', 200)\n",
    "pd.set_option('display.width', 1000)\n",
    "import numpy as np\n",
    "import matplotlib.pyplot as plt\n",
    "from importlib import reload\n",
    "import helpers as h\n",
    "import inquisit_helpers as ih\n",
    "reload(h), reload(ih)"
   ]
  },
  {
   "cell_type": "code",
   "execution_count": 8,
   "metadata": {},
   "outputs": [],
   "source": [
    "dir_list = h.get_dir_list('input/inquisit')\n",
    "# Filter dir_list for the files of the TNT part (with \"part1\")\n",
    "dir_list = [x for x in dir_list if x.find(\"part1\") != -1]\n"
   ]
  },
  {
   "cell_type": "code",
   "execution_count": 71,
   "metadata": {},
   "outputs": [],
   "source": [
    "reload(ih)\n",
    "\n",
    "df = pd.DataFrame()\n",
    "\n",
    "for file in dir_list:\n",
    "    temp = ih.load_and_process(f\"input/inquisit/{file}\")\n",
    "    if not temp.empty:\n",
    "        df = pd.concat([df, temp])\n",
    "\n",
    "# Save to csv\n",
    "df.to_csv('output/inquisit_combined_raw.csv', index=False)"
   ]
  },
  {
   "cell_type": "code",
   "execution_count": null,
   "metadata": {},
   "outputs": [],
   "source": []
  }
 ],
 "metadata": {
  "kernelspec": {
   "display_name": "Python 3",
   "language": "python",
   "name": "python3"
  },
  "language_info": {
   "codemirror_mode": {
    "name": "ipython",
    "version": 3
   },
   "file_extension": ".py",
   "mimetype": "text/x-python",
   "name": "python",
   "nbconvert_exporter": "python",
   "pygments_lexer": "ipython3",
   "version": "3.10.11"
  },
  "orig_nbformat": 4,
  "vscode": {
   "interpreter": {
    "hash": "44926e988d9339d89d78a2bb059e488695b2344bf58dce8ac284c358b56c4344"
   }
  }
 },
 "nbformat": 4,
 "nbformat_minor": 2
}
