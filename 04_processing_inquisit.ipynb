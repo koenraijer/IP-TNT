{
 "cells": [
  {
   "cell_type": "code",
   "execution_count": 12,
   "metadata": {},
   "outputs": [
    {
     "data": {
      "text/plain": [
       "(<module 'helpers' from '/Users/koenraijer/Documents/00_Werk_en_studie/Msc_Data_Science_&_Society/Thesis/Analysis/helpers.py'>,\n",
       " <module 'inquisit_helpers' from '/Users/koenraijer/Documents/00_Werk_en_studie/Msc_Data_Science_&_Society/Thesis/Analysis/inquisit_helpers.py'>)"
      ]
     },
     "execution_count": 12,
     "metadata": {},
     "output_type": "execute_result"
    }
   ],
   "source": [
    "# CONDA: tnt\n",
    "import pandas as pd\n",
    "pd.set_option('display.max_rows', 200)\n",
    "pd.set_option('display.width', 1000)\n",
    "import numpy as np\n",
    "import matplotlib.pyplot as plt\n",
    "from importlib import reload\n",
    "import helpers as h\n",
    "import inquisit_helpers as ih\n",
    "reload(h), reload(ih)"
   ]
  },
  {
   "cell_type": "code",
   "execution_count": 2,
   "metadata": {},
   "outputs": [],
   "source": [
    "dir_list = h.get_dir_list('input/inquisit')\n",
    "# Filter dir_list for the files of the TNT part (with \"part1\")\n",
    "dir_list = [x for x in dir_list if x.find(\"part1\") != -1]"
   ]
  },
  {
   "cell_type": "code",
   "execution_count": 14,
   "metadata": {},
   "outputs": [],
   "source": [
    "reload(ih)\n",
    "\n",
    "# df = pd.DataFrame()\n",
    "\n",
    "# for file in dir_list:\n",
    "#     temp = ih.load_and_process(f\"input/inquisit/{file}\")\n",
    "#     if not temp.empty:\n",
    "#         df = pd.concat([df, temp])\n",
    "\n",
    "# # Save to csv\n",
    "# df.to_csv('output/inquisit_combined_raw.csv', index=False)\n",
    "\n",
    "# def load_inquisit(data_folder = 'input/inquisit', save = False):\n",
    "#     dir_list = h.get_dir_list(data_folder)\n",
    "#     # Filter dir_list for the files of the TNT part (with \"part1\")\n",
    "#     dir_list = [x for x in dir_list if x.find(\"part1\") != -1]\n",
    "#     df = pd.DataFrame()\n",
    "\n",
    "#     for file in dir_list:\n",
    "#         temp = ih.load_and_process(f\"{data_folder}/{file}\")\n",
    "#         if not temp.empty:\n",
    "#             df = pd.concat([df, temp])\n",
    "\n",
    "#     if save:\n",
    "#         df.to_csv('output/inquisit_combined_raw.csv', index=False)\n",
    "    \n",
    "#     return df\n",
    "\n",
    "df = ih.load_inquisit()"
   ]
  },
  {
   "cell_type": "code",
   "execution_count": 10,
   "metadata": {},
   "outputs": [
    {
     "data": {
      "text/html": [
       "<div>\n",
       "<style scoped>\n",
       "    .dataframe tbody tr th:only-of-type {\n",
       "        vertical-align: middle;\n",
       "    }\n",
       "\n",
       "    .dataframe tbody tr th {\n",
       "        vertical-align: top;\n",
       "    }\n",
       "\n",
       "    .dataframe thead th {\n",
       "        text-align: right;\n",
       "    }\n",
       "</style>\n",
       "<table border=\"1\" class=\"dataframe\">\n",
       "  <thead>\n",
       "    <tr style=\"text-align: right;\">\n",
       "      <th></th>\n",
       "      <th>time</th>\n",
       "      <th>trialcode</th>\n",
       "      <th>response</th>\n",
       "    </tr>\n",
       "  </thead>\n",
       "  <tbody>\n",
       "    <tr>\n",
       "      <th>252</th>\n",
       "      <td>2023-04-18 16:59:11.535</td>\n",
       "      <td>TNT_Think_CSm</td>\n",
       "      <td>4</td>\n",
       "    </tr>\n",
       "    <tr>\n",
       "      <th>262</th>\n",
       "      <td>2023-04-18 16:59:38.137</td>\n",
       "      <td>TNT_NoThink_CSm</td>\n",
       "      <td>3</td>\n",
       "    </tr>\n",
       "    <tr>\n",
       "      <th>266</th>\n",
       "      <td>2023-04-18 16:59:47.671</td>\n",
       "      <td>TNT_Think_CSp</td>\n",
       "      <td>4</td>\n",
       "    </tr>\n",
       "    <tr>\n",
       "      <th>270</th>\n",
       "      <td>2023-04-18 16:59:58.204</td>\n",
       "      <td>TNT_Think_CSp</td>\n",
       "      <td>4</td>\n",
       "    </tr>\n",
       "    <tr>\n",
       "      <th>274</th>\n",
       "      <td>2023-04-18 17:00:09.739</td>\n",
       "      <td>TNT_Think_CSm</td>\n",
       "      <td>4</td>\n",
       "    </tr>\n",
       "  </tbody>\n",
       "</table>\n",
       "</div>"
      ],
      "text/plain": [
       "                       time        trialcode  response\n",
       "252 2023-04-18 16:59:11.535    TNT_Think_CSm         4\n",
       "262 2023-04-18 16:59:38.137  TNT_NoThink_CSm         3\n",
       "266 2023-04-18 16:59:47.671    TNT_Think_CSp         4\n",
       "270 2023-04-18 16:59:58.204    TNT_Think_CSp         4\n",
       "274 2023-04-18 17:00:09.739    TNT_Think_CSm         4"
      ]
     },
     "execution_count": 10,
     "metadata": {},
     "output_type": "execute_result"
    }
   ],
   "source": [
    "df.head()"
   ]
  },
  {
   "cell_type": "code",
   "execution_count": 4,
   "metadata": {},
   "outputs": [],
   "source": [
    "# Load df.to_csv('output/inquisit_combined_raw.csv', index=False)\n",
    "df = pd.read_csv('output/inquisit_combined_raw.csv')"
   ]
  },
  {
   "cell_type": "code",
   "execution_count": 5,
   "metadata": {},
   "outputs": [
    {
     "name": "stdout",
     "output_type": "stream",
     "text": [
      "                      time        trialcode  response\n",
      "0  2023-04-18 16:59:11.535    TNT_Think_CSm         4\n",
      "1  2023-04-18 16:59:38.137  TNT_NoThink_CSm         3\n",
      "2  2023-04-18 16:59:47.671    TNT_Think_CSp         4\n",
      "3  2023-04-18 16:59:58.204    TNT_Think_CSp         4\n",
      "4  2023-04-18 17:00:09.739    TNT_Think_CSm         4\n",
      "4290\n"
     ]
    }
   ],
   "source": [
    "print(df.head())\n",
    "print(len(df))"
   ]
  },
  {
   "cell_type": "code",
   "execution_count": 6,
   "metadata": {},
   "outputs": [
    {
     "data": {
      "text/plain": [
       "trialcode\n",
       "TNT_Think_CSm      1076\n",
       "TNT_Think_CSp      1075\n",
       "TNT_NoThink_CSm    1071\n",
       "TNT_NoThink_CSp    1068\n",
       "Name: count, dtype: int64"
      ]
     },
     "execution_count": 6,
     "metadata": {},
     "output_type": "execute_result"
    }
   ],
   "source": [
    "df['trialcode'].value_counts()"
   ]
  },
  {
   "cell_type": "code",
   "execution_count": 7,
   "metadata": {},
   "outputs": [],
   "source": [
    "# Check for trials that are less than 5 seconds apart\n",
    "import pandas as pd\n",
    "\n",
    "# Assuming df is your DataFrame\n",
    "df['time'] = pd.to_datetime(df['time'])\n",
    "df['time_diff'] = df['time'].diff().dt.total_seconds()\n",
    "\n",
    "# Find rows where the time difference is less than 5 seconds\n",
    "df_less_than_5s = df[df['time_diff'] < 5]"
   ]
  },
  {
   "cell_type": "code",
   "execution_count": 8,
   "metadata": {},
   "outputs": [
    {
     "name": "stdout",
     "output_type": "stream",
     "text": [
      "4290\n"
     ]
    }
   ],
   "source": [
    "print(len(df))"
   ]
  },
  {
   "cell_type": "code",
   "execution_count": null,
   "metadata": {},
   "outputs": [],
   "source": []
  }
 ],
 "metadata": {
  "kernelspec": {
   "display_name": "Python 3",
   "language": "python",
   "name": "python3"
  },
  "language_info": {
   "codemirror_mode": {
    "name": "ipython",
    "version": 3
   },
   "file_extension": ".py",
   "mimetype": "text/x-python",
   "name": "python",
   "nbconvert_exporter": "python",
   "pygments_lexer": "ipython3",
   "version": "3.11.7"
  },
  "orig_nbformat": 4,
  "vscode": {
   "interpreter": {
    "hash": "44926e988d9339d89d78a2bb059e488695b2344bf58dce8ac284c358b56c4344"
   }
  }
 },
 "nbformat": 4,
 "nbformat_minor": 2
}
