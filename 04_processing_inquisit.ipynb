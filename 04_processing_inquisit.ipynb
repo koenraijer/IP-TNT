{
 "cells": [
  {
   "cell_type": "code",
   "execution_count": 1,
   "metadata": {},
   "outputs": [
    {
     "name": "stderr",
     "output_type": "stream",
     "text": [
      "/var/folders/4y/grqbq6j10592pmzzhgzbxdmr0000gn/T/ipykernel_5137/3535743369.py:2: DeprecationWarning: \n",
      "Pyarrow will become a required dependency of pandas in the next major release of pandas (pandas 3.0),\n",
      "(to allow more performant data types, such as the Arrow string type, and better interoperability with other libraries)\n",
      "but was not found to be installed on your system.\n",
      "If this would cause problems for you,\n",
      "please provide us feedback at https://github.com/pandas-dev/pandas/issues/54466\n",
      "        \n",
      "  import pandas as pd\n"
     ]
    },
    {
     "data": {
      "text/plain": [
       "(<module 'helpers' from '/Users/koenraijer/Documents/00_Werk_en_studie/Msc_Data_Science_&_Society/Thesis/Preprocessing/helpers.py'>,\n",
       " <module 'inquisit_helpers' from '/Users/koenraijer/Documents/00_Werk_en_studie/Msc_Data_Science_&_Society/Thesis/Preprocessing/inquisit_helpers.py'>)"
      ]
     },
     "execution_count": 1,
     "metadata": {},
     "output_type": "execute_result"
    }
   ],
   "source": [
    "# CONDA: tnt\n",
    "import pandas as pd\n",
    "pd.set_option('display.max_rows', 200)\n",
    "pd.set_option('display.width', 1000)\n",
    "import numpy as np\n",
    "import matplotlib.pyplot as plt\n",
    "from importlib import reload\n",
    "import helpers as h\n",
    "import inquisit_helpers as ih\n",
    "reload(h), reload(ih)"
   ]
  },
  {
   "cell_type": "code",
   "execution_count": 2,
   "metadata": {},
   "outputs": [],
   "source": [
    "dir_list = h.get_dir_list('input/inquisit')\n",
    "# Filter dir_list for the files of the TNT part (with \"part1\")\n",
    "dir_list = [x for x in dir_list if x.find(\"part1\") != -1]"
   ]
  },
  {
   "cell_type": "code",
   "execution_count": 5,
   "metadata": {},
   "outputs": [],
   "source": [
    "reload(ih)\n",
    "\n",
    "df = pd.DataFrame()\n",
    "\n",
    "for file in dir_list:\n",
    "    temp = ih.load_and_process(f\"input/inquisit/{file}\")\n",
    "    if not temp.empty:\n",
    "        df = pd.concat([df, temp])\n",
    "\n",
    "# Save to csv\n",
    "df.to_csv('output/inquisit_combined_raw.csv', index=False)"
   ]
  },
  {
   "cell_type": "code",
   "execution_count": 7,
   "metadata": {},
   "outputs": [],
   "source": [
    "# Load df.to_csv('output/inquisit_combined_raw.csv', index=False)\n",
    "df = pd.read_csv('output/inquisit_combined_raw.csv')"
   ]
  },
  {
   "cell_type": "code",
   "execution_count": 11,
   "metadata": {},
   "outputs": [
    {
     "name": "stdout",
     "output_type": "stream",
     "text": [
      "                      time        trialcode  response\n",
      "0  2023-04-18 16:59:11.535    TNT_Think_CSm         4\n",
      "1  2023-04-18 16:59:38.137  TNT_NoThink_CSm         3\n",
      "2  2023-04-18 16:59:47.671    TNT_Think_CSp         4\n",
      "3  2023-04-18 16:59:58.204    TNT_Think_CSp         4\n",
      "4  2023-04-18 17:00:09.739    TNT_Think_CSm         4\n",
      "4290\n"
     ]
    }
   ],
   "source": [
    "print(df.head())\n",
    "print(len(df))"
   ]
  },
  {
   "cell_type": "code",
   "execution_count": 12,
   "metadata": {},
   "outputs": [
    {
     "data": {
      "text/plain": [
       "trialcode\n",
       "TNT_Think_CSm      1076\n",
       "TNT_Think_CSp      1075\n",
       "TNT_NoThink_CSm    1071\n",
       "TNT_NoThink_CSp    1068\n",
       "Name: count, dtype: int64"
      ]
     },
     "execution_count": 12,
     "metadata": {},
     "output_type": "execute_result"
    }
   ],
   "source": [
    "df['trialcode'].value_counts()"
   ]
  }
 ],
 "metadata": {
  "kernelspec": {
   "display_name": "Python 3",
   "language": "python",
   "name": "python3"
  },
  "language_info": {
   "codemirror_mode": {
    "name": "ipython",
    "version": 3
   },
   "file_extension": ".py",
   "mimetype": "text/x-python",
   "name": "python",
   "nbconvert_exporter": "python",
   "pygments_lexer": "ipython3",
   "version": "3.11.7"
  },
  "orig_nbformat": 4,
  "vscode": {
   "interpreter": {
    "hash": "44926e988d9339d89d78a2bb059e488695b2344bf58dce8ac284c358b56c4344"
   }
  }
 },
 "nbformat": 4,
 "nbformat_minor": 2
}
