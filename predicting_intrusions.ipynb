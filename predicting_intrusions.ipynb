{
 "cells": [
  {
   "cell_type": "code",
   "execution_count": 11,
   "metadata": {},
   "outputs": [
    {
     "name": "stdout",
     "output_type": "stream",
     "text": [
      "DF Head\n",
      "      acc_x      acc_y      acc_z         hr   temp       eda        bvp  \\\n",
      "0 -9.285870  42.936198  43.831382  80.814292  26.45  0.026906   4.118854   \n",
      "1 -5.732297  46.785212  43.438090  90.170361  26.45  0.026906 -26.130442   \n",
      "2 -2.237697  43.976816  44.922013  92.425688  26.45  0.028188  14.419979   \n",
      "3 -4.673917  44.903054  45.332522  89.400447  26.45  0.028188  10.727726   \n",
      "4 -7.575088  44.367411  43.601637  84.108272  26.13  0.026906 -17.376916   \n",
      "\n",
      "                            time trialcode  response  intrusion  \n",
      "0  2023-03-22 12:05:18.000000000       NaN         0          0  \n",
      "1  2023-03-22 12:05:18.249999872       NaN         0          0  \n",
      "2  2023-03-22 12:05:18.500000000       NaN         0          0  \n",
      "3  2023-03-22 12:05:18.750000128       NaN         0          0  \n",
      "4  2023-03-22 12:05:19.000000000       NaN         0          0  \n",
      "<class 'pandas.core.frame.DataFrame'>\n",
      "RangeIndex: 775822 entries, 0 to 775821\n",
      "Data columns (total 11 columns):\n",
      " #   Column     Non-Null Count   Dtype  \n",
      "---  ------     --------------   -----  \n",
      " 0   acc_x      775822 non-null  float64\n",
      " 1   acc_y      775822 non-null  float64\n",
      " 2   acc_z      775822 non-null  float64\n",
      " 3   hr         775786 non-null  float64\n",
      " 4   temp       775822 non-null  float64\n",
      " 5   eda        775822 non-null  float64\n",
      " 6   bvp        775822 non-null  float64\n",
      " 7   time       775822 non-null  object \n",
      " 8   trialcode  2558 non-null    object \n",
      " 9   response   775822 non-null  int64  \n",
      " 10  intrusion  775822 non-null  int64  \n",
      "dtypes: float64(7), int64(2), object(2)\n",
      "memory usage: 65.1+ MB\n"
     ]
    },
    {
     "data": {
      "text/plain": [
       "0    774314\n",
       "1      1508\n",
       "Name: intrusion, dtype: int64"
      ]
     },
     "execution_count": 11,
     "metadata": {},
     "output_type": "execute_result"
    }
   ],
   "source": [
    "# Load dataset and visualise (in same folder at /output/empatica_inquisit_merged.csv)  \n",
    "#\n",
    "\n",
    "import pandas as pd\n",
    "import numpy as np\n",
    "import matplotlib.pyplot as plt\n",
    "import seaborn as sns\n",
    "import os\n",
    "import sys\n",
    "import warnings\n",
    "warnings.filterwarnings('ignore')\n",
    "\n",
    "# Load dataset\n",
    "df = pd.read_csv('output/empatica_inquisit_merged.csv')\n",
    "\n",
    "# Add print statement before each visualisation\n",
    "print(\"DF Head\")\n",
    "print(df.head())\n",
    "\n",
    "# Visualise dataset\n",
    "df.info()\n",
    "df.describe()\n",
    "df.columns\n",
    "df.shape\n",
    "df.isnull().sum()\n",
    "df.isnull().sum().sum()\n",
    "\n",
    "# Find number of intrusion events\n",
    "df['intrusion'].value_counts()\n"
   ]
  }
 ],
 "metadata": {
  "kernelspec": {
   "display_name": "spraypaint",
   "language": "python",
   "name": "python3"
  },
  "language_info": {
   "codemirror_mode": {
    "name": "ipython",
    "version": 3
   },
   "file_extension": ".py",
   "mimetype": "text/x-python",
   "name": "python",
   "nbconvert_exporter": "python",
   "pygments_lexer": "ipython3",
   "version": "3.9.7"
  }
 },
 "nbformat": 4,
 "nbformat_minor": 2
}
