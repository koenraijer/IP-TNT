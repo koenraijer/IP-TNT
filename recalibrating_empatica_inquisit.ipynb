{
 "cells": [
  {
   "cell_type": "code",
   "execution_count": 27,
   "metadata": {},
   "outputs": [
    {
     "data": {
      "text/plain": [
       "<module 'helpers' from '/Users/koenraijer/Documents/Universiteit/Student-assistent/IP-TNT/Data/helpers.py'>"
      ]
     },
     "execution_count": 27,
     "metadata": {},
     "output_type": "execute_result"
    }
   ],
   "source": [
    "# CONDA: tnt\n",
    "import pandas as pd\n",
    "pd.set_option('display.max_rows', 200)\n",
    "pd.set_option('display.width', 1000)\n",
    "import numpy as np\n",
    "import matplotlib.pyplot as plt\n",
    "from importlib import reload\n",
    "import helpers as h\n",
    "from datetime import timedelta\n",
    "reload(h)"
   ]
  },
  {
   "attachments": {},
   "cell_type": "markdown",
   "metadata": {},
   "source": [
    "# Obtaining Inquisit timestamps"
   ]
  },
  {
   "cell_type": "code",
   "execution_count": 14,
   "metadata": {},
   "outputs": [],
   "source": [
    "dir_list = h.get_dir_list('input/calibration_pp20/inquisit')"
   ]
  },
  {
   "cell_type": "code",
   "execution_count": 43,
   "metadata": {},
   "outputs": [
    {
     "name": "stdout",
     "output_type": "stream",
     "text": [
      "[1681986695.444, 1681986890.308, 1681988379.043, 1681989368.37, 1681990006.293, 1681991320.92, 1681991634.8700001, 1681992273.859, 1681992478.773, 1681993163.464, 1681994714.336, 1681994755.499, 1681994826.996, 1681994891.0700002, 1681994949.3409998, 1681995050.463, 1681995329.934, 1681995571.2649999]\n",
      "18\n"
     ]
    },
    {
     "data": {
      "text/plain": [
       "Timestamp('2023-04-20 10:31:35.444000')"
      ]
     },
     "execution_count": 43,
     "metadata": {},
     "output_type": "execute_result"
    }
   ],
   "source": [
    "reload(h)\n",
    "inquisit_timestamps = []\n",
    "\n",
    "for file in dir_list:\n",
    "    inquisit_timestamps.extend(h.get_inquisit_tags(f\"input/calibration_pp20/inquisit/{file}\"))\n",
    "\n",
    "inquisit_timestamps.sort()\n",
    "\n",
    "print(inquisit_timestamps)\n",
    "print(len(inquisit_timestamps))\n",
    "\n",
    "# Convert timestamp in format 1681986695.444 to datetime: Timestamp('2023-04-20 10:31:35.444000')\n",
    "pd.to_datetime(inquisit_timestamps[0], unit='s')"
   ]
  },
  {
   "attachments": {},
   "cell_type": "markdown",
   "metadata": {},
   "source": [
    "# Obtaining Empatica timestamps"
   ]
  },
  {
   "cell_type": "code",
   "execution_count": 19,
   "metadata": {},
   "outputs": [],
   "source": [
    "dir_list2 = h.get_dir_list('input/calibration_pp20/empatica' )"
   ]
  },
  {
   "cell_type": "code",
   "execution_count": 45,
   "metadata": {},
   "outputs": [
    {
     "name": "stdout",
     "output_type": "stream",
     "text": [
      "[1681986694.02, 1681986888.64, 1681988378.56, 1681989366.97, 1681990004.83, 1681991319.67, 1681991633.8, 1681992272.84, 1681992477.62, 1681993162.73, 1681994713.58, 1681994754.84, 1681994825.25, 1681994890.52, 1681994948.69, 1681995049.58, 1681995328.86, 1681995570.55]\n",
      "18\n"
     ]
    },
    {
     "data": {
      "text/plain": [
       "Timestamp('2023-04-20 10:31:34.020000')"
      ]
     },
     "execution_count": 45,
     "metadata": {},
     "output_type": "execute_result"
    }
   ],
   "source": [
    "# Read tags.csv\n",
    "tags_df = pd.read_csv(f'input/calibration_pp20/empatica/{dir_list2[1]}/tags.csv', header=None, names=['time'])\n",
    "\n",
    "empatica_timestamps = list(tags_df['time'])\n",
    "\n",
    "print(empatica_timestamps)\n",
    "print(len(empatica_timestamps))\n",
    "\n",
    "# Convert timestamp in format 1681986694.02 to datetime: Timestamp('2023-04-20 10:31:34.020000')\n",
    "pd.to_datetime(empatica_timestamps[0], unit='s')"
   ]
  },
  {
   "attachments": {},
   "cell_type": "markdown",
   "metadata": {},
   "source": [
    "# Calculating the difference between Inquisit and Empatica timestamps"
   ]
  },
  {
   "cell_type": "code",
   "execution_count": 55,
   "metadata": {},
   "outputs": [
    {
     "name": "stdout",
     "output_type": "stream",
     "text": [
      "1.038777814971076\n",
      "18\n",
      "Range: (1681988378.56, 1681988379.043, 0.4830000400543213) (1681994825.25, 1681994826.996, 1.746000051498413)\n",
      "[(1681986694.02, 1681986695.444, 1.4240000247955322), (1681986888.64, 1681986890.308, 1.6679999828338623), (1681988378.56, 1681988379.043, 0.4830000400543213), (1681989366.97, 1681989368.37, 1.3999998569488525), (1681990004.83, 1681990006.293, 1.4630000591278076), (1681991319.67, 1681991320.92, 1.25), (1681991633.8, 1681991634.8700001, 1.070000171661377), (1681992272.84, 1681992273.859, 1.0190000534057617), (1681992477.62, 1681992478.773, 1.1530001163482666), (1681993162.73, 1681993163.464, 0.7339999675750732), (1681994713.58, 1681994714.336, 0.7560000419616699), (1681994754.84, 1681994755.499, 0.6590001583099365), (1681994825.25, 1681994826.996, 1.746000051498413), (1681994890.52, 1681994891.0700002, 0.5500001907348633), (1681994948.69, 1681994949.3409998, 0.6509997844696045), (1681995049.58, 1681995050.463, 0.8830001354217529), (1681995328.86, 1681995329.934, 1.0740001201629639), (1681995570.55, 1681995571.2649999, 0.7149999141693115)]\n"
     ]
    }
   ],
   "source": [
    "reload(h)\n",
    "\n",
    "# Calculate differences between Empatica timestamps and their closest Inquisit timestamps\n",
    "differences = []\n",
    "for empatica_ts in empatica_timestamps:\n",
    "    closest_inquisit_ts = h.closest_timestamp(empatica_ts, inquisit_timestamps)\n",
    "    diff = abs(empatica_ts - closest_inquisit_ts)\n",
    "    \n",
    "    # If the difference is within the 5-second threshold, add it to the list\n",
    "    if diff <= 5:\n",
    "        differences.append((empatica_ts, closest_inquisit_ts, diff))\n",
    "\n",
    "# Calculate the average difference\n",
    "average_difference = sum(diff for _, _, diff in differences) / len(differences)\n",
    "print(average_difference)\n",
    "print(len(differences))\n",
    "print(\"Range:\", min(differences, key=lambda x: x[2]), max(differences, key=lambda x: x[2]))\n",
    "print(differences)"
   ]
  },
  {
   "attachments": {},
   "cell_type": "markdown",
   "metadata": {},
   "source": [
    "You are an expert Python programmer and data scientist, good at solving tough problems relating to the calibration of timestamps coming from different sources. If you think anything I suggested is not the best way to do it, please feel free to suggest a better way. Think step by step, and explain your reasoning. Provide code and comments.\n",
    "\n",
    "I have two lists of timestamps in UNIX/epoch format (in seconds) coming from two different data sources that need to be calibrated. `empatica_timestamps` is coming from Empatica wristband tags, which are registered whenever users press the button on the wearable. They were instructed to do so at specific moments in time using blocks in Inquisit, software to do psychological experiments. The timing of those blocks are stored in `inquisit_timestamps`.\n",
    "\n",
    "What I need:\n",
    "- Create a list with differences between each Empatica timestamp and the closest Inquisit timestamp.\n",
    "- If the difference is more than 5 seconds, discard it.\n",
    "- Average all items in the differences list. \n",
    "\n",
    "empatica_timestamps:\n",
    "```py\n",
    "[1681986694.02, 1681986888.64, 1681988378.56, 1681989366.97, 1681990004.83, 1681991319.67, 1681991633.8, 1681992272.84, 1681992477.62, 1681993162.73, 1681994713.58, 1681994754.84, 1681994825.25, 1681994890.52, 1681994948.69, 1681995049.58, 1681995328.86, 1681995570.55]\n",
    "```\n",
    "\n",
    "inquisit_timestamps:\n",
    "```py\n",
    "[1681986695.444, 1681986890.308, 1681988379.043, 1681989368.37, 1681990006.293, 1681991320.92, 1681991634.8700001, 1681992273.859, 1681992478.773, 1681993163.464, 1681994714.336, 1681994755.499, 1681994826.996, 1681994891.0700002, 1681994949.3409998, 1681995050.463, 1681995329.934, 1681995571.2649999]\n",
    "```\n",
    "\n",
    "Note: do not copy the timestamps lists, that is redundant, just assume they are there."
   ]
  },
  {
   "attachments": {},
   "cell_type": "markdown",
   "metadata": {},
   "source": []
  },
  {
   "cell_type": "code",
   "execution_count": 56,
   "metadata": {},
   "outputs": [
    {
     "name": "stdout",
     "output_type": "stream",
     "text": [
      "0.7746000289916992\n"
     ]
    }
   ],
   "source": [
    "reload(h)\n",
    "\n",
    "def moving_average(differences, window_size):\n",
    "    \"\"\"\n",
    "    Calculate the moving average of the differences with a given window size.\n",
    "\n",
    "    Args:\n",
    "        differences (list): List of timestamp differences.\n",
    "        window_size (int): The window size for the moving average.\n",
    "\n",
    "    Returns:\n",
    "        list: The moving average of the differences.\n",
    "    \"\"\"\n",
    "    if window_size < 1:\n",
    "        raise ValueError(\"Window size must be greater than or equal to 1.\")\n",
    "\n",
    "    return [sum(differences[i:i+window_size]) / window_size for i in range(len(differences) - window_size + 1)]\n",
    "\n",
    "# Step 1: Calculate differences without the 5-second threshold\n",
    "all_differences = [(empatica_ts, closest_inquisit_ts, abs(empatica_ts - closest_inquisit_ts))\n",
    "                   for empatica_ts in empatica_timestamps\n",
    "                   for closest_inquisit_ts in [h.closest_timestamp(empatica_ts, inquisit_timestamps)]]\n",
    "\n",
    "# Step 2: Calculate moving average of the differences\n",
    "window_size = 5  # Adjust this value based on the expected stability of the synchronization\n",
    "moving_averages = moving_average([diff for _, _, diff in all_differences], window_size)\n",
    "\n",
    "# Step 3: Identify the most stable period and compute the average difference in that period\n",
    "most_stable_period_index = moving_averages.index(min(moving_averages))\n",
    "most_stable_differences = all_differences[most_stable_period_index:most_stable_period_index + window_size]\n",
    "\n",
    "# Step 4: Calculate the optimal shift using the average difference in the most stable period\n",
    "optimal_shift = sum(diff for _, _, diff in most_stable_differences) / len(most_stable_differences)\n",
    "print(optimal_shift)"
   ]
  },
  {
   "cell_type": "code",
   "execution_count": 58,
   "metadata": {},
   "outputs": [
    {
     "name": "stdout",
     "output_type": "stream",
     "text": [
      "104273.97266435623\n"
     ]
    }
   ],
   "source": [
    "reload(h)\n",
    "import numpy as np\n",
    "from sklearn.linear_model import LinearRegression\n",
    "\n",
    "# Step 1: Calculate differences without the 5-second threshold\n",
    "all_differences = [(empatica_ts, closest_inquisit_ts, abs(empatica_ts - closest_inquisit_ts))\n",
    "                   for empatica_ts in empatica_timestamps\n",
    "                   for closest_inquisit_ts in [h.closest_timestamp(empatica_ts, inquisit_timestamps)]]\n",
    "\n",
    "# Step 2: Perform linear regression between Empatica and Inquisit timestamps\n",
    "empatica_ts_array = np.array([ts for ts, _, _ in all_differences]).reshape(-1, 1)\n",
    "inquisit_ts_array = np.array([ts for _, ts, _ in all_differences])\n",
    "\n",
    "regression_model = LinearRegression()\n",
    "regression_model.fit(empatica_ts_array, inquisit_ts_array)\n",
    "\n",
    "# Step 3: Calculate the optimal shift using the intercept of the regression line\n",
    "optimal_shift = regression_model.intercept_\n",
    "print(optimal_shift)"
   ]
  },
  {
   "cell_type": "code",
   "execution_count": null,
   "metadata": {},
   "outputs": [],
   "source": []
  }
 ],
 "metadata": {
  "kernelspec": {
   "display_name": "tnt",
   "language": "python",
   "name": "python3"
  },
  "language_info": {
   "codemirror_mode": {
    "name": "ipython",
    "version": 3
   },
   "file_extension": ".py",
   "mimetype": "text/x-python",
   "name": "python",
   "nbconvert_exporter": "python",
   "pygments_lexer": "ipython3",
   "version": "3.10.11"
  },
  "orig_nbformat": 4
 },
 "nbformat": 4,
 "nbformat_minor": 2
}
